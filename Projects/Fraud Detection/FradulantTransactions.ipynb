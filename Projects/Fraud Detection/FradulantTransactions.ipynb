{
 "cells": [
  {
   "cell_type": "code",
   "execution_count": 1,
   "id": "8ec40b23-7fc7-480a-892d-739ed1c0146c",
   "metadata": {},
   "outputs": [],
   "source": [
    "import pandas as pd\n",
    "import numpy as np\n",
    "import os\n",
    "import matplotlib.pyplot as plt\n",
    "import seaborn as sns\n",
    "from sklearn.decomposition import PCA\n",
    "from sklearn.preprocessing import scale\n"
   ]
  },
  {
   "cell_type": "code",
   "execution_count": 2,
   "id": "12f4bde5-6595-44c1-802c-47987d96ecfd",
   "metadata": {
    "scrolled": true
   },
   "outputs": [
    {
     "data": {
      "text/html": [
       "<div>\n",
       "<style scoped>\n",
       "    .dataframe tbody tr th:only-of-type {\n",
       "        vertical-align: middle;\n",
       "    }\n",
       "\n",
       "    .dataframe tbody tr th {\n",
       "        vertical-align: top;\n",
       "    }\n",
       "\n",
       "    .dataframe thead th {\n",
       "        text-align: right;\n",
       "    }\n",
       "</style>\n",
       "<table border=\"1\" class=\"dataframe\">\n",
       "  <thead>\n",
       "    <tr style=\"text-align: right;\">\n",
       "      <th></th>\n",
       "      <th>Time</th>\n",
       "      <th>V1</th>\n",
       "      <th>V2</th>\n",
       "      <th>V3</th>\n",
       "      <th>V4</th>\n",
       "      <th>V5</th>\n",
       "      <th>V6</th>\n",
       "      <th>V7</th>\n",
       "      <th>V8</th>\n",
       "      <th>V9</th>\n",
       "      <th>...</th>\n",
       "      <th>V21</th>\n",
       "      <th>V22</th>\n",
       "      <th>V23</th>\n",
       "      <th>V24</th>\n",
       "      <th>V25</th>\n",
       "      <th>V26</th>\n",
       "      <th>V27</th>\n",
       "      <th>V28</th>\n",
       "      <th>Amount</th>\n",
       "      <th>Class</th>\n",
       "    </tr>\n",
       "  </thead>\n",
       "  <tbody>\n",
       "    <tr>\n",
       "      <th>0</th>\n",
       "      <td>0.0</td>\n",
       "      <td>-1.359807</td>\n",
       "      <td>-0.072781</td>\n",
       "      <td>2.536347</td>\n",
       "      <td>1.378155</td>\n",
       "      <td>-0.338321</td>\n",
       "      <td>0.462388</td>\n",
       "      <td>0.239599</td>\n",
       "      <td>0.098698</td>\n",
       "      <td>0.363787</td>\n",
       "      <td>...</td>\n",
       "      <td>-0.018307</td>\n",
       "      <td>0.277838</td>\n",
       "      <td>-0.110474</td>\n",
       "      <td>0.066928</td>\n",
       "      <td>0.128539</td>\n",
       "      <td>-0.189115</td>\n",
       "      <td>0.133558</td>\n",
       "      <td>-0.021053</td>\n",
       "      <td>149.62</td>\n",
       "      <td>0</td>\n",
       "    </tr>\n",
       "    <tr>\n",
       "      <th>1</th>\n",
       "      <td>0.0</td>\n",
       "      <td>1.191857</td>\n",
       "      <td>0.266151</td>\n",
       "      <td>0.166480</td>\n",
       "      <td>0.448154</td>\n",
       "      <td>0.060018</td>\n",
       "      <td>-0.082361</td>\n",
       "      <td>-0.078803</td>\n",
       "      <td>0.085102</td>\n",
       "      <td>-0.255425</td>\n",
       "      <td>...</td>\n",
       "      <td>-0.225775</td>\n",
       "      <td>-0.638672</td>\n",
       "      <td>0.101288</td>\n",
       "      <td>-0.339846</td>\n",
       "      <td>0.167170</td>\n",
       "      <td>0.125895</td>\n",
       "      <td>-0.008983</td>\n",
       "      <td>0.014724</td>\n",
       "      <td>2.69</td>\n",
       "      <td>0</td>\n",
       "    </tr>\n",
       "    <tr>\n",
       "      <th>2</th>\n",
       "      <td>1.0</td>\n",
       "      <td>-1.358354</td>\n",
       "      <td>-1.340163</td>\n",
       "      <td>1.773209</td>\n",
       "      <td>0.379780</td>\n",
       "      <td>-0.503198</td>\n",
       "      <td>1.800499</td>\n",
       "      <td>0.791461</td>\n",
       "      <td>0.247676</td>\n",
       "      <td>-1.514654</td>\n",
       "      <td>...</td>\n",
       "      <td>0.247998</td>\n",
       "      <td>0.771679</td>\n",
       "      <td>0.909412</td>\n",
       "      <td>-0.689281</td>\n",
       "      <td>-0.327642</td>\n",
       "      <td>-0.139097</td>\n",
       "      <td>-0.055353</td>\n",
       "      <td>-0.059752</td>\n",
       "      <td>378.66</td>\n",
       "      <td>0</td>\n",
       "    </tr>\n",
       "    <tr>\n",
       "      <th>3</th>\n",
       "      <td>1.0</td>\n",
       "      <td>-0.966272</td>\n",
       "      <td>-0.185226</td>\n",
       "      <td>1.792993</td>\n",
       "      <td>-0.863291</td>\n",
       "      <td>-0.010309</td>\n",
       "      <td>1.247203</td>\n",
       "      <td>0.237609</td>\n",
       "      <td>0.377436</td>\n",
       "      <td>-1.387024</td>\n",
       "      <td>...</td>\n",
       "      <td>-0.108300</td>\n",
       "      <td>0.005274</td>\n",
       "      <td>-0.190321</td>\n",
       "      <td>-1.175575</td>\n",
       "      <td>0.647376</td>\n",
       "      <td>-0.221929</td>\n",
       "      <td>0.062723</td>\n",
       "      <td>0.061458</td>\n",
       "      <td>123.50</td>\n",
       "      <td>0</td>\n",
       "    </tr>\n",
       "    <tr>\n",
       "      <th>4</th>\n",
       "      <td>2.0</td>\n",
       "      <td>-1.158233</td>\n",
       "      <td>0.877737</td>\n",
       "      <td>1.548718</td>\n",
       "      <td>0.403034</td>\n",
       "      <td>-0.407193</td>\n",
       "      <td>0.095921</td>\n",
       "      <td>0.592941</td>\n",
       "      <td>-0.270533</td>\n",
       "      <td>0.817739</td>\n",
       "      <td>...</td>\n",
       "      <td>-0.009431</td>\n",
       "      <td>0.798278</td>\n",
       "      <td>-0.137458</td>\n",
       "      <td>0.141267</td>\n",
       "      <td>-0.206010</td>\n",
       "      <td>0.502292</td>\n",
       "      <td>0.219422</td>\n",
       "      <td>0.215153</td>\n",
       "      <td>69.99</td>\n",
       "      <td>0</td>\n",
       "    </tr>\n",
       "  </tbody>\n",
       "</table>\n",
       "<p>5 rows × 31 columns</p>\n",
       "</div>"
      ],
      "text/plain": [
       "   Time        V1        V2        V3        V4        V5        V6        V7  \\\n",
       "0   0.0 -1.359807 -0.072781  2.536347  1.378155 -0.338321  0.462388  0.239599   \n",
       "1   0.0  1.191857  0.266151  0.166480  0.448154  0.060018 -0.082361 -0.078803   \n",
       "2   1.0 -1.358354 -1.340163  1.773209  0.379780 -0.503198  1.800499  0.791461   \n",
       "3   1.0 -0.966272 -0.185226  1.792993 -0.863291 -0.010309  1.247203  0.237609   \n",
       "4   2.0 -1.158233  0.877737  1.548718  0.403034 -0.407193  0.095921  0.592941   \n",
       "\n",
       "         V8        V9  ...       V21       V22       V23       V24       V25  \\\n",
       "0  0.098698  0.363787  ... -0.018307  0.277838 -0.110474  0.066928  0.128539   \n",
       "1  0.085102 -0.255425  ... -0.225775 -0.638672  0.101288 -0.339846  0.167170   \n",
       "2  0.247676 -1.514654  ...  0.247998  0.771679  0.909412 -0.689281 -0.327642   \n",
       "3  0.377436 -1.387024  ... -0.108300  0.005274 -0.190321 -1.175575  0.647376   \n",
       "4 -0.270533  0.817739  ... -0.009431  0.798278 -0.137458  0.141267 -0.206010   \n",
       "\n",
       "        V26       V27       V28  Amount  Class  \n",
       "0 -0.189115  0.133558 -0.021053  149.62      0  \n",
       "1  0.125895 -0.008983  0.014724    2.69      0  \n",
       "2 -0.139097 -0.055353 -0.059752  378.66      0  \n",
       "3 -0.221929  0.062723  0.061458  123.50      0  \n",
       "4  0.502292  0.219422  0.215153   69.99      0  \n",
       "\n",
       "[5 rows x 31 columns]"
      ]
     },
     "execution_count": 2,
     "metadata": {},
     "output_type": "execute_result"
    }
   ],
   "source": [
    "import pandas as pd\n",
    "\n",
    "transactions = pd.read_csv(\"creditcard.csv\")\n",
    "transactions.head()"
   ]
  },
  {
   "cell_type": "code",
   "execution_count": 3,
   "id": "77d1a231-94ef-456f-976c-2cc75f92b724",
   "metadata": {},
   "outputs": [
    {
     "data": {
      "text/plain": [
       "Class\n",
       "0    284315\n",
       "1       492\n",
       "Name: count, dtype: int64"
      ]
     },
     "execution_count": 3,
     "metadata": {},
     "output_type": "execute_result"
    }
   ],
   "source": [
    "transactions[\"Class\"].value_counts()"
   ]
  },
  {
   "cell_type": "code",
   "execution_count": 4,
   "id": "d7682f5a-cff5-4151-922c-f929932ea380",
   "metadata": {},
   "outputs": [],
   "source": [
    "from sklearn.utils import resample\n",
    "df_nonfraud = transactions[(transactions['Class']==0)] \n",
    "df_fraud = transactions[(transactions['Class']==1)] \n",
    "df_fraud_resample = resample(df_fraud, \n",
    "                                 replace=True,    # sample with replacement\n",
    "                                 n_samples= 284315, # to match majority class\n",
    "                                 random_state=42)  # reproducible results\n",
    "df_transactions = pd.concat([df_fraud_resample, df_nonfraud])"
   ]
  },
  {
   "cell_type": "code",
   "execution_count": 5,
   "id": "75515d49-01a8-48ef-8291-bc3e1fc853f2",
   "metadata": {},
   "outputs": [
    {
     "data": {
      "text/plain": [
       "Class\n",
       "1    284315\n",
       "0    284315\n",
       "Name: count, dtype: int64"
      ]
     },
     "execution_count": 5,
     "metadata": {},
     "output_type": "execute_result"
    }
   ],
   "source": [
    "df_transactions[\"Class\"].value_counts()"
   ]
  },
  {
   "cell_type": "code",
   "execution_count": 6,
   "id": "a26d4de4-a6ca-4bb4-8992-760a519b789d",
   "metadata": {},
   "outputs": [
    {
     "data": {
      "text/plain": [
       "(568630, 31)"
      ]
     },
     "execution_count": 6,
     "metadata": {},
     "output_type": "execute_result"
    }
   ],
   "source": [
    "df_transactions.shape"
   ]
  },
  {
   "cell_type": "code",
   "execution_count": 7,
   "id": "6253ccc6-4d8a-4808-9ca2-1ae6f2b59380",
   "metadata": {
    "scrolled": true
   },
   "outputs": [
    {
     "data": {
      "text/plain": [
       "count    568630.0\n",
       "mean          0.5\n",
       "std           0.5\n",
       "min           0.0\n",
       "25%           0.0\n",
       "50%           0.5\n",
       "75%           1.0\n",
       "max           1.0\n",
       "Name: Class, dtype: float64"
      ]
     },
     "execution_count": 7,
     "metadata": {},
     "output_type": "execute_result"
    }
   ],
   "source": [
    "df_transactions['Class'].describe()"
   ]
  },
  {
   "cell_type": "code",
   "execution_count": 8,
   "id": "20633e06-0583-44b6-93d0-c9ddfac47497",
   "metadata": {},
   "outputs": [],
   "source": [
    "scale_data  = df_transactions.loc[:,'V1':'V28']"
   ]
  },
  {
   "cell_type": "code",
   "execution_count": null,
   "id": "8d855e97-40c3-4bbf-b6e1-1078a615b7e4",
   "metadata": {},
   "outputs": [],
   "source": []
  },
  {
   "cell_type": "code",
   "execution_count": 9,
   "id": "ec33ddd7-9891-4278-be80-ea3e0b6d3d44",
   "metadata": {},
   "outputs": [],
   "source": [
    "#Save the state labels (using the index attribute of `state_summary_scale`) into the variable 'state_summary_index'\n",
    "variable_summary_index = scale_data.index\n"
   ]
  },
  {
   "cell_type": "code",
   "execution_count": 10,
   "id": "81d24248-a29a-4e1a-bb7a-4067e699e846",
   "metadata": {},
   "outputs": [
    {
     "data": {
      "text/html": [
       "<div>\n",
       "<style scoped>\n",
       "    .dataframe tbody tr th:only-of-type {\n",
       "        vertical-align: middle;\n",
       "    }\n",
       "\n",
       "    .dataframe tbody tr th {\n",
       "        vertical-align: top;\n",
       "    }\n",
       "\n",
       "    .dataframe thead th {\n",
       "        text-align: right;\n",
       "    }\n",
       "</style>\n",
       "<table border=\"1\" class=\"dataframe\">\n",
       "  <thead>\n",
       "    <tr style=\"text-align: right;\">\n",
       "      <th></th>\n",
       "      <th>V1</th>\n",
       "      <th>V2</th>\n",
       "      <th>V3</th>\n",
       "      <th>V4</th>\n",
       "      <th>V5</th>\n",
       "      <th>V6</th>\n",
       "      <th>V7</th>\n",
       "      <th>V8</th>\n",
       "      <th>V9</th>\n",
       "      <th>V10</th>\n",
       "      <th>...</th>\n",
       "      <th>V19</th>\n",
       "      <th>V20</th>\n",
       "      <th>V21</th>\n",
       "      <th>V22</th>\n",
       "      <th>V23</th>\n",
       "      <th>V24</th>\n",
       "      <th>V25</th>\n",
       "      <th>V26</th>\n",
       "      <th>V27</th>\n",
       "      <th>V28</th>\n",
       "    </tr>\n",
       "  </thead>\n",
       "  <tbody>\n",
       "    <tr>\n",
       "      <th>33276</th>\n",
       "      <td>-7.923891</td>\n",
       "      <td>-5.198360</td>\n",
       "      <td>-3.000024</td>\n",
       "      <td>4.420666</td>\n",
       "      <td>2.272194</td>\n",
       "      <td>-3.394483</td>\n",
       "      <td>-5.283435</td>\n",
       "      <td>0.131619</td>\n",
       "      <td>0.658176</td>\n",
       "      <td>-0.794994</td>\n",
       "      <td>...</td>\n",
       "      <td>3.025261</td>\n",
       "      <td>-2.169811</td>\n",
       "      <td>-0.734308</td>\n",
       "      <td>-0.599926</td>\n",
       "      <td>-4.908301</td>\n",
       "      <td>0.410170</td>\n",
       "      <td>-1.167660</td>\n",
       "      <td>0.520508</td>\n",
       "      <td>1.937421</td>\n",
       "      <td>-1.552593</td>\n",
       "    </tr>\n",
       "    <tr>\n",
       "      <th>239499</th>\n",
       "      <td>-2.150855</td>\n",
       "      <td>2.187917</td>\n",
       "      <td>-3.430516</td>\n",
       "      <td>0.119476</td>\n",
       "      <td>-0.173210</td>\n",
       "      <td>0.290700</td>\n",
       "      <td>-2.808988</td>\n",
       "      <td>-2.679351</td>\n",
       "      <td>-0.556685</td>\n",
       "      <td>-4.485483</td>\n",
       "      <td>...</td>\n",
       "      <td>1.490329</td>\n",
       "      <td>0.532145</td>\n",
       "      <td>-0.073205</td>\n",
       "      <td>0.561496</td>\n",
       "      <td>-0.075034</td>\n",
       "      <td>-0.437619</td>\n",
       "      <td>0.353841</td>\n",
       "      <td>-0.521339</td>\n",
       "      <td>0.144465</td>\n",
       "      <td>0.026588</td>\n",
       "    </tr>\n",
       "    <tr>\n",
       "      <th>154720</th>\n",
       "      <td>-5.552122</td>\n",
       "      <td>5.678134</td>\n",
       "      <td>-9.775528</td>\n",
       "      <td>8.416295</td>\n",
       "      <td>-4.409844</td>\n",
       "      <td>-1.506235</td>\n",
       "      <td>-6.899839</td>\n",
       "      <td>3.750443</td>\n",
       "      <td>-3.879793</td>\n",
       "      <td>-6.864164</td>\n",
       "      <td>...</td>\n",
       "      <td>1.525732</td>\n",
       "      <td>-0.064780</td>\n",
       "      <td>1.128472</td>\n",
       "      <td>0.228484</td>\n",
       "      <td>0.286258</td>\n",
       "      <td>-0.536294</td>\n",
       "      <td>-0.104925</td>\n",
       "      <td>0.420919</td>\n",
       "      <td>-0.297557</td>\n",
       "      <td>-0.946184</td>\n",
       "    </tr>\n",
       "    <tr>\n",
       "      <th>142557</th>\n",
       "      <td>-1.430864</td>\n",
       "      <td>-0.802529</td>\n",
       "      <td>1.123320</td>\n",
       "      <td>0.389760</td>\n",
       "      <td>-0.281214</td>\n",
       "      <td>-0.055123</td>\n",
       "      <td>1.326232</td>\n",
       "      <td>0.195700</td>\n",
       "      <td>-0.546890</td>\n",
       "      <td>-0.713474</td>\n",
       "      <td>...</td>\n",
       "      <td>-1.140376</td>\n",
       "      <td>0.634184</td>\n",
       "      <td>0.325575</td>\n",
       "      <td>0.014002</td>\n",
       "      <td>0.844946</td>\n",
       "      <td>0.114963</td>\n",
       "      <td>0.156365</td>\n",
       "      <td>-0.619437</td>\n",
       "      <td>-0.120351</td>\n",
       "      <td>0.035594</td>\n",
       "    </tr>\n",
       "    <tr>\n",
       "      <th>41395</th>\n",
       "      <td>-4.446847</td>\n",
       "      <td>-0.014793</td>\n",
       "      <td>-5.126307</td>\n",
       "      <td>6.945130</td>\n",
       "      <td>5.269255</td>\n",
       "      <td>-4.297177</td>\n",
       "      <td>-2.591242</td>\n",
       "      <td>0.342671</td>\n",
       "      <td>-3.880663</td>\n",
       "      <td>-3.976525</td>\n",
       "      <td>...</td>\n",
       "      <td>-0.688721</td>\n",
       "      <td>-0.108006</td>\n",
       "      <td>0.247913</td>\n",
       "      <td>-0.049586</td>\n",
       "      <td>-0.226017</td>\n",
       "      <td>-0.401236</td>\n",
       "      <td>0.856124</td>\n",
       "      <td>0.661272</td>\n",
       "      <td>0.492560</td>\n",
       "      <td>0.971834</td>\n",
       "    </tr>\n",
       "  </tbody>\n",
       "</table>\n",
       "<p>5 rows × 28 columns</p>\n",
       "</div>"
      ],
      "text/plain": [
       "              V1        V2        V3        V4        V5        V6        V7  \\\n",
       "33276  -7.923891 -5.198360 -3.000024  4.420666  2.272194 -3.394483 -5.283435   \n",
       "239499 -2.150855  2.187917 -3.430516  0.119476 -0.173210  0.290700 -2.808988   \n",
       "154720 -5.552122  5.678134 -9.775528  8.416295 -4.409844 -1.506235 -6.899839   \n",
       "142557 -1.430864 -0.802529  1.123320  0.389760 -0.281214 -0.055123  1.326232   \n",
       "41395  -4.446847 -0.014793 -5.126307  6.945130  5.269255 -4.297177 -2.591242   \n",
       "\n",
       "              V8        V9       V10  ...       V19       V20       V21  \\\n",
       "33276   0.131619  0.658176 -0.794994  ...  3.025261 -2.169811 -0.734308   \n",
       "239499 -2.679351 -0.556685 -4.485483  ...  1.490329  0.532145 -0.073205   \n",
       "154720  3.750443 -3.879793 -6.864164  ...  1.525732 -0.064780  1.128472   \n",
       "142557  0.195700 -0.546890 -0.713474  ... -1.140376  0.634184  0.325575   \n",
       "41395   0.342671 -3.880663 -3.976525  ... -0.688721 -0.108006  0.247913   \n",
       "\n",
       "             V22       V23       V24       V25       V26       V27       V28  \n",
       "33276  -0.599926 -4.908301  0.410170 -1.167660  0.520508  1.937421 -1.552593  \n",
       "239499  0.561496 -0.075034 -0.437619  0.353841 -0.521339  0.144465  0.026588  \n",
       "154720  0.228484  0.286258 -0.536294 -0.104925  0.420919 -0.297557 -0.946184  \n",
       "142557  0.014002  0.844946  0.114963  0.156365 -0.619437 -0.120351  0.035594  \n",
       "41395  -0.049586 -0.226017 -0.401236  0.856124  0.661272  0.492560  0.971834  \n",
       "\n",
       "[5 rows x 28 columns]"
      ]
     },
     "execution_count": 10,
     "metadata": {},
     "output_type": "execute_result"
    }
   ],
   "source": [
    "scale_data.head()"
   ]
  },
  {
   "cell_type": "code",
   "execution_count": 11,
   "id": "bce0a68c-dc5a-4f28-ac01-7dd988294c70",
   "metadata": {},
   "outputs": [],
   "source": [
    "variable_pca = PCA().fit(scale_data)"
   ]
  },
  {
   "cell_type": "code",
   "execution_count": 12,
   "id": "ab11beac-28a0-4f76-88dc-5766c18b0c1b",
   "metadata": {
    "scrolled": true
   },
   "outputs": [
    {
     "data": {
      "image/png": "[encoded data removed]",
      "text/plain": [
       "<Figure size 1000x600 with 1 Axes>"
      ]
     },
     "metadata": {},
     "output_type": "display_data"
    }
   ],
   "source": [
    "plt.subplots(figsize=(10, 6))\n",
    "plt.plot(variable_pca.explained_variance_ratio_.cumsum())\n",
    "plt.xlabel(\"Component #\")\n",
    "plt.ylabel(\"Cumulative ratio variance\")\n",
    "plt.title('Cumulative variance ratio explained by PCA components for transaction/variables summary statistics');"
   ]
  },
  {
   "cell_type": "code",
   "execution_count": 13,
   "id": "b84f3980-14f4-4fd1-9717-c74d945d3ea2",
   "metadata": {},
   "outputs": [
    {
     "data": {
      "text/html": [
       "<div>\n",
       "<style scoped>\n",
       "    .dataframe tbody tr th:only-of-type {\n",
       "        vertical-align: middle;\n",
       "    }\n",
       "\n",
       "    .dataframe tbody tr th {\n",
       "        vertical-align: top;\n",
       "    }\n",
       "\n",
       "    .dataframe thead th {\n",
       "        text-align: right;\n",
       "    }\n",
       "</style>\n",
       "<table border=\"1\" class=\"dataframe\">\n",
       "  <thead>\n",
       "    <tr style=\"text-align: right;\">\n",
       "      <th></th>\n",
       "      <th>Time</th>\n",
       "      <th>V1</th>\n",
       "      <th>V2</th>\n",
       "      <th>V3</th>\n",
       "      <th>V4</th>\n",
       "      <th>V5</th>\n",
       "      <th>V6</th>\n",
       "      <th>V7</th>\n",
       "      <th>V8</th>\n",
       "      <th>V9</th>\n",
       "      <th>...</th>\n",
       "      <th>V21</th>\n",
       "      <th>V22</th>\n",
       "      <th>V23</th>\n",
       "      <th>V24</th>\n",
       "      <th>V25</th>\n",
       "      <th>V26</th>\n",
       "      <th>V27</th>\n",
       "      <th>V28</th>\n",
       "      <th>Amount</th>\n",
       "      <th>Class</th>\n",
       "    </tr>\n",
       "  </thead>\n",
       "  <tbody>\n",
       "    <tr>\n",
       "      <th>33276</th>\n",
       "      <td>37167.0</td>\n",
       "      <td>-7.923891</td>\n",
       "      <td>-5.198360</td>\n",
       "      <td>-3.000024</td>\n",
       "      <td>4.420666</td>\n",
       "      <td>2.272194</td>\n",
       "      <td>-3.394483</td>\n",
       "      <td>-5.283435</td>\n",
       "      <td>0.131619</td>\n",
       "      <td>0.658176</td>\n",
       "      <td>...</td>\n",
       "      <td>-0.734308</td>\n",
       "      <td>-0.599926</td>\n",
       "      <td>-4.908301</td>\n",
       "      <td>0.410170</td>\n",
       "      <td>-1.167660</td>\n",
       "      <td>0.520508</td>\n",
       "      <td>1.937421</td>\n",
       "      <td>-1.552593</td>\n",
       "      <td>12.31</td>\n",
       "      <td>1</td>\n",
       "    </tr>\n",
       "    <tr>\n",
       "      <th>239499</th>\n",
       "      <td>150138.0</td>\n",
       "      <td>-2.150855</td>\n",
       "      <td>2.187917</td>\n",
       "      <td>-3.430516</td>\n",
       "      <td>0.119476</td>\n",
       "      <td>-0.173210</td>\n",
       "      <td>0.290700</td>\n",
       "      <td>-2.808988</td>\n",
       "      <td>-2.679351</td>\n",
       "      <td>-0.556685</td>\n",
       "      <td>...</td>\n",
       "      <td>-0.073205</td>\n",
       "      <td>0.561496</td>\n",
       "      <td>-0.075034</td>\n",
       "      <td>-0.437619</td>\n",
       "      <td>0.353841</td>\n",
       "      <td>-0.521339</td>\n",
       "      <td>0.144465</td>\n",
       "      <td>0.026588</td>\n",
       "      <td>50.00</td>\n",
       "      <td>1</td>\n",
       "    </tr>\n",
       "    <tr>\n",
       "      <th>154720</th>\n",
       "      <td>102676.0</td>\n",
       "      <td>-5.552122</td>\n",
       "      <td>5.678134</td>\n",
       "      <td>-9.775528</td>\n",
       "      <td>8.416295</td>\n",
       "      <td>-4.409844</td>\n",
       "      <td>-1.506235</td>\n",
       "      <td>-6.899839</td>\n",
       "      <td>3.750443</td>\n",
       "      <td>-3.879793</td>\n",
       "      <td>...</td>\n",
       "      <td>1.128472</td>\n",
       "      <td>0.228484</td>\n",
       "      <td>0.286258</td>\n",
       "      <td>-0.536294</td>\n",
       "      <td>-0.104925</td>\n",
       "      <td>0.420919</td>\n",
       "      <td>-0.297557</td>\n",
       "      <td>-0.946184</td>\n",
       "      <td>119.74</td>\n",
       "      <td>1</td>\n",
       "    </tr>\n",
       "    <tr>\n",
       "      <th>142557</th>\n",
       "      <td>84789.0</td>\n",
       "      <td>-1.430864</td>\n",
       "      <td>-0.802529</td>\n",
       "      <td>1.123320</td>\n",
       "      <td>0.389760</td>\n",
       "      <td>-0.281214</td>\n",
       "      <td>-0.055123</td>\n",
       "      <td>1.326232</td>\n",
       "      <td>0.195700</td>\n",
       "      <td>-0.546890</td>\n",
       "      <td>...</td>\n",
       "      <td>0.325575</td>\n",
       "      <td>0.014002</td>\n",
       "      <td>0.844946</td>\n",
       "      <td>0.114963</td>\n",
       "      <td>0.156365</td>\n",
       "      <td>-0.619437</td>\n",
       "      <td>-0.120351</td>\n",
       "      <td>0.035594</td>\n",
       "      <td>354.33</td>\n",
       "      <td>1</td>\n",
       "    </tr>\n",
       "    <tr>\n",
       "      <th>41395</th>\n",
       "      <td>40662.0</td>\n",
       "      <td>-4.446847</td>\n",
       "      <td>-0.014793</td>\n",
       "      <td>-5.126307</td>\n",
       "      <td>6.945130</td>\n",
       "      <td>5.269255</td>\n",
       "      <td>-4.297177</td>\n",
       "      <td>-2.591242</td>\n",
       "      <td>0.342671</td>\n",
       "      <td>-3.880663</td>\n",
       "      <td>...</td>\n",
       "      <td>0.247913</td>\n",
       "      <td>-0.049586</td>\n",
       "      <td>-0.226017</td>\n",
       "      <td>-0.401236</td>\n",
       "      <td>0.856124</td>\n",
       "      <td>0.661272</td>\n",
       "      <td>0.492560</td>\n",
       "      <td>0.971834</td>\n",
       "      <td>1.00</td>\n",
       "      <td>1</td>\n",
       "    </tr>\n",
       "  </tbody>\n",
       "</table>\n",
       "<p>5 rows × 31 columns</p>\n",
       "</div>"
      ],
      "text/plain": [
       "            Time        V1        V2        V3        V4        V5        V6  \\\n",
       "33276    37167.0 -7.923891 -5.198360 -3.000024  4.420666  2.272194 -3.394483   \n",
       "239499  150138.0 -2.150855  2.187917 -3.430516  0.119476 -0.173210  0.290700   \n",
       "154720  102676.0 -5.552122  5.678134 -9.775528  8.416295 -4.409844 -1.506235   \n",
       "142557   84789.0 -1.430864 -0.802529  1.123320  0.389760 -0.281214 -0.055123   \n",
       "41395    40662.0 -4.446847 -0.014793 -5.126307  6.945130  5.269255 -4.297177   \n",
       "\n",
       "              V7        V8        V9  ...       V21       V22       V23  \\\n",
       "33276  -5.283435  0.131619  0.658176  ... -0.734308 -0.599926 -4.908301   \n",
       "239499 -2.808988 -2.679351 -0.556685  ... -0.073205  0.561496 -0.075034   \n",
       "154720 -6.899839  3.750443 -3.879793  ...  1.128472  0.228484  0.286258   \n",
       "142557  1.326232  0.195700 -0.546890  ...  0.325575  0.014002  0.844946   \n",
       "41395  -2.591242  0.342671 -3.880663  ...  0.247913 -0.049586 -0.226017   \n",
       "\n",
       "             V24       V25       V26       V27       V28  Amount  Class  \n",
       "33276   0.410170 -1.167660  0.520508  1.937421 -1.552593   12.31      1  \n",
       "239499 -0.437619  0.353841 -0.521339  0.144465  0.026588   50.00      1  \n",
       "154720 -0.536294 -0.104925  0.420919 -0.297557 -0.946184  119.74      1  \n",
       "142557  0.114963  0.156365 -0.619437 -0.120351  0.035594  354.33      1  \n",
       "41395  -0.401236  0.856124  0.661272  0.492560  0.971834    1.00      1  \n",
       "\n",
       "[5 rows x 31 columns]"
      ]
     },
     "execution_count": 13,
     "metadata": {},
     "output_type": "execute_result"
    }
   ],
   "source": [
    "df_transactions.head()"
   ]
  },
  {
   "cell_type": "code",
   "execution_count": 14,
   "id": "b2959271-4744-4fad-857f-afcf43af8353",
   "metadata": {},
   "outputs": [],
   "source": [
    "df = df_transactions[['Time','V1','V2','V3','V4','V5','Amount','Class']]"
   ]
  },
  {
   "cell_type": "code",
   "execution_count": 15,
   "id": "15084886-19a7-4ac4-8eba-607851afa84e",
   "metadata": {},
   "outputs": [
    {
     "data": {
      "text/html": [
       "<div>\n",
       "<style scoped>\n",
       "    .dataframe tbody tr th:only-of-type {\n",
       "        vertical-align: middle;\n",
       "    }\n",
       "\n",
       "    .dataframe tbody tr th {\n",
       "        vertical-align: top;\n",
       "    }\n",
       "\n",
       "    .dataframe thead th {\n",
       "        text-align: right;\n",
       "    }\n",
       "</style>\n",
       "<table border=\"1\" class=\"dataframe\">\n",
       "  <thead>\n",
       "    <tr style=\"text-align: right;\">\n",
       "      <th></th>\n",
       "      <th>Time</th>\n",
       "      <th>V1</th>\n",
       "      <th>V2</th>\n",
       "      <th>V3</th>\n",
       "      <th>V4</th>\n",
       "      <th>V5</th>\n",
       "      <th>Amount</th>\n",
       "      <th>Class</th>\n",
       "    </tr>\n",
       "  </thead>\n",
       "  <tbody>\n",
       "    <tr>\n",
       "      <th>33276</th>\n",
       "      <td>37167.0</td>\n",
       "      <td>-7.923891</td>\n",
       "      <td>-5.198360</td>\n",
       "      <td>-3.000024</td>\n",
       "      <td>4.420666</td>\n",
       "      <td>2.272194</td>\n",
       "      <td>12.31</td>\n",
       "      <td>1</td>\n",
       "    </tr>\n",
       "    <tr>\n",
       "      <th>239499</th>\n",
       "      <td>150138.0</td>\n",
       "      <td>-2.150855</td>\n",
       "      <td>2.187917</td>\n",
       "      <td>-3.430516</td>\n",
       "      <td>0.119476</td>\n",
       "      <td>-0.173210</td>\n",
       "      <td>50.00</td>\n",
       "      <td>1</td>\n",
       "    </tr>\n",
       "    <tr>\n",
       "      <th>154720</th>\n",
       "      <td>102676.0</td>\n",
       "      <td>-5.552122</td>\n",
       "      <td>5.678134</td>\n",
       "      <td>-9.775528</td>\n",
       "      <td>8.416295</td>\n",
       "      <td>-4.409844</td>\n",
       "      <td>119.74</td>\n",
       "      <td>1</td>\n",
       "    </tr>\n",
       "    <tr>\n",
       "      <th>142557</th>\n",
       "      <td>84789.0</td>\n",
       "      <td>-1.430864</td>\n",
       "      <td>-0.802529</td>\n",
       "      <td>1.123320</td>\n",
       "      <td>0.389760</td>\n",
       "      <td>-0.281214</td>\n",
       "      <td>354.33</td>\n",
       "      <td>1</td>\n",
       "    </tr>\n",
       "    <tr>\n",
       "      <th>41395</th>\n",
       "      <td>40662.0</td>\n",
       "      <td>-4.446847</td>\n",
       "      <td>-0.014793</td>\n",
       "      <td>-5.126307</td>\n",
       "      <td>6.945130</td>\n",
       "      <td>5.269255</td>\n",
       "      <td>1.00</td>\n",
       "      <td>1</td>\n",
       "    </tr>\n",
       "  </tbody>\n",
       "</table>\n",
       "</div>"
      ],
      "text/plain": [
       "            Time        V1        V2        V3        V4        V5  Amount  \\\n",
       "33276    37167.0 -7.923891 -5.198360 -3.000024  4.420666  2.272194   12.31   \n",
       "239499  150138.0 -2.150855  2.187917 -3.430516  0.119476 -0.173210   50.00   \n",
       "154720  102676.0 -5.552122  5.678134 -9.775528  8.416295 -4.409844  119.74   \n",
       "142557   84789.0 -1.430864 -0.802529  1.123320  0.389760 -0.281214  354.33   \n",
       "41395    40662.0 -4.446847 -0.014793 -5.126307  6.945130  5.269255    1.00   \n",
       "\n",
       "        Class  \n",
       "33276       1  \n",
       "239499      1  \n",
       "154720      1  \n",
       "142557      1  \n",
       "41395       1  "
      ]
     },
     "execution_count": 15,
     "metadata": {},
     "output_type": "execute_result"
    }
   ],
   "source": [
    "df.head()"
   ]
  },
  {
   "cell_type": "code",
   "execution_count": 16,
   "id": "909f1206-268f-496d-a5db-b388e0c71dc4",
   "metadata": {},
   "outputs": [
    {
     "data": {
      "image/png": "[encoded data removed]",
      "text/plain": [
       "<Figure size 1200x1000 with 2 Axes>"
      ]
     },
     "metadata": {},
     "output_type": "display_data"
    }
   ],
   "source": [
    "plt.subplots(figsize=(12,10))\n",
    "sns.heatmap(df.corr(numeric_only=True));"
   ]
  },
  {
   "cell_type": "code",
   "execution_count": 17,
   "id": "4992ee9e-c432-46fc-aa79-53f2aadec739",
   "metadata": {},
   "outputs": [],
   "source": [
    "def scatterplots(columns, ncol=None, figsize=(15, 8)):\n",
    "    if ncol is None:\n",
    "        ncol = len(columns)\n",
    "    nrow = int(np.ceil(len(columns) / ncol))\n",
    "    fig, axes = plt.subplots(nrow, ncol, figsize=figsize, squeeze=False)\n",
    "    fig.subplots_adjust(wspace=0.5, hspace=0.6)\n",
    "    for i, col in enumerate(columns):\n",
    "        ax = axes.flatten()[i]\n",
    "        ax.scatter(x = col, y = 'Class', data=df, alpha=0.5)\n",
    "        ax.set(xlabel=col, ylabel='Fraud or not')\n",
    "    nsubplots = nrow * ncol    \n",
    "    for empty in range(i+1, nsubplots):\n",
    "        axes.flatten()[empty].set_visible(False)"
   ]
  },
  {
   "cell_type": "code",
   "execution_count": 18,
   "id": "558b73a1-c99c-4e40-a4a2-fd7c39774084",
   "metadata": {
    "scrolled": true
   },
   "outputs": [
    {
     "data": {
      "image/png": "[encoded data removed]",
      "text/plain": [
       "<Figure size 1500x1500 with 8 Axes>"
      ]
     },
     "metadata": {},
     "output_type": "display_data"
    }
   ],
   "source": [
    "features = [col for col in df.columns if col not in ['Class']]\n",
    "scatterplots(features, ncol=4, figsize=(15, 15))"
   ]
  },
  {
   "cell_type": "code",
   "execution_count": 19,
   "id": "5687a29b-fcd9-412c-ab93-f6ef7722625d",
   "metadata": {},
   "outputs": [
    {
     "data": {
      "text/plain": [
       "Time      0\n",
       "V1        0\n",
       "V2        0\n",
       "V3        0\n",
       "V4        0\n",
       "V5        0\n",
       "Amount    0\n",
       "Class     0\n",
       "dtype: int64"
      ]
     },
     "execution_count": 19,
     "metadata": {},
     "output_type": "execute_result"
    }
   ],
   "source": [
    "df.isna().sum().sort_values()"
   ]
  },
  {
   "cell_type": "code",
   "execution_count": 20,
   "id": "b179ef25-cb85-47aa-9721-923e85c54500",
   "metadata": {},
   "outputs": [
    {
     "data": {
      "text/html": [
       "<div>\n",
       "<style scoped>\n",
       "    .dataframe tbody tr th:only-of-type {\n",
       "        vertical-align: middle;\n",
       "    }\n",
       "\n",
       "    .dataframe tbody tr th {\n",
       "        vertical-align: top;\n",
       "    }\n",
       "\n",
       "    .dataframe thead th {\n",
       "        text-align: right;\n",
       "    }\n",
       "</style>\n",
       "<table border=\"1\" class=\"dataframe\">\n",
       "  <thead>\n",
       "    <tr style=\"text-align: right;\">\n",
       "      <th></th>\n",
       "      <th>Time</th>\n",
       "      <th>V1</th>\n",
       "      <th>V2</th>\n",
       "      <th>V3</th>\n",
       "      <th>V4</th>\n",
       "      <th>V5</th>\n",
       "      <th>Amount</th>\n",
       "      <th>Class</th>\n",
       "    </tr>\n",
       "  </thead>\n",
       "  <tbody>\n",
       "    <tr>\n",
       "      <th>count</th>\n",
       "      <td>568630.000000</td>\n",
       "      <td>568630.000000</td>\n",
       "      <td>568630.000000</td>\n",
       "      <td>568630.000000</td>\n",
       "      <td>568630.000000</td>\n",
       "      <td>568630.000000</td>\n",
       "      <td>568630.000000</td>\n",
       "      <td>568630.0</td>\n",
       "    </tr>\n",
       "    <tr>\n",
       "      <th>mean</th>\n",
       "      <td>87749.312338</td>\n",
       "      <td>-2.385303</td>\n",
       "      <td>1.813584</td>\n",
       "      <td>-3.513309</td>\n",
       "      <td>2.265520</td>\n",
       "      <td>-1.577112</td>\n",
       "      <td>104.914179</td>\n",
       "      <td>0.5</td>\n",
       "    </tr>\n",
       "    <tr>\n",
       "      <th>std</th>\n",
       "      <td>48158.104299</td>\n",
       "      <td>5.540865</td>\n",
       "      <td>3.724947</td>\n",
       "      <td>6.227465</td>\n",
       "      <td>3.201838</td>\n",
       "      <td>4.230174</td>\n",
       "      <td>252.634547</td>\n",
       "      <td>0.5</td>\n",
       "    </tr>\n",
       "    <tr>\n",
       "      <th>min</th>\n",
       "      <td>0.000000</td>\n",
       "      <td>-56.407510</td>\n",
       "      <td>-72.715728</td>\n",
       "      <td>-48.325589</td>\n",
       "      <td>-5.683171</td>\n",
       "      <td>-113.743307</td>\n",
       "      <td>0.000000</td>\n",
       "      <td>0.0</td>\n",
       "    </tr>\n",
       "    <tr>\n",
       "      <th>25%</th>\n",
       "      <td>46057.000000</td>\n",
       "      <td>-2.866364</td>\n",
       "      <td>-0.145017</td>\n",
       "      <td>-5.118363</td>\n",
       "      <td>-0.106919</td>\n",
       "      <td>-1.796308</td>\n",
       "      <td>1.290000</td>\n",
       "      <td>0.0</td>\n",
       "    </tr>\n",
       "    <tr>\n",
       "      <th>50%</th>\n",
       "      <td>80173.500000</td>\n",
       "      <td>-0.773346</td>\n",
       "      <td>0.962831</td>\n",
       "      <td>-1.366354</td>\n",
       "      <td>1.311660</td>\n",
       "      <td>-0.428632</td>\n",
       "      <td>18.960000</td>\n",
       "      <td>0.5</td>\n",
       "    </tr>\n",
       "    <tr>\n",
       "      <th>75%</th>\n",
       "      <td>134648.750000</td>\n",
       "      <td>1.042958</td>\n",
       "      <td>2.798780</td>\n",
       "      <td>0.341818</td>\n",
       "      <td>4.243069</td>\n",
       "      <td>0.478230</td>\n",
       "      <td>99.990000</td>\n",
       "      <td>1.0</td>\n",
       "    </tr>\n",
       "    <tr>\n",
       "      <th>max</th>\n",
       "      <td>172792.000000</td>\n",
       "      <td>2.454930</td>\n",
       "      <td>22.057729</td>\n",
       "      <td>9.382558</td>\n",
       "      <td>16.875344</td>\n",
       "      <td>34.801666</td>\n",
       "      <td>25691.160000</td>\n",
       "      <td>1.0</td>\n",
       "    </tr>\n",
       "  </tbody>\n",
       "</table>\n",
       "</div>"
      ],
      "text/plain": [
       "                Time             V1             V2             V3  \\\n",
       "count  568630.000000  568630.000000  568630.000000  568630.000000   \n",
       "mean    87749.312338      -2.385303       1.813584      -3.513309   \n",
       "std     48158.104299       5.540865       3.724947       6.227465   \n",
       "min         0.000000     -56.407510     -72.715728     -48.325589   \n",
       "25%     46057.000000      -2.866364      -0.145017      -5.118363   \n",
       "50%     80173.500000      -0.773346       0.962831      -1.366354   \n",
       "75%    134648.750000       1.042958       2.798780       0.341818   \n",
       "max    172792.000000       2.454930      22.057729       9.382558   \n",
       "\n",
       "                  V4             V5         Amount     Class  \n",
       "count  568630.000000  568630.000000  568630.000000  568630.0  \n",
       "mean        2.265520      -1.577112     104.914179       0.5  \n",
       "std         3.201838       4.230174     252.634547       0.5  \n",
       "min        -5.683171    -113.743307       0.000000       0.0  \n",
       "25%        -0.106919      -1.796308       1.290000       0.0  \n",
       "50%         1.311660      -0.428632      18.960000       0.5  \n",
       "75%         4.243069       0.478230      99.990000       1.0  \n",
       "max        16.875344      34.801666   25691.160000       1.0  "
      ]
     },
     "execution_count": 20,
     "metadata": {},
     "output_type": "execute_result"
    }
   ],
   "source": [
    "df.describe()"
   ]
  },
  {
   "cell_type": "code",
   "execution_count": 21,
   "id": "fb40b05f-70d2-4dff-a5e2-b7f4c6735fe5",
   "metadata": {},
   "outputs": [],
   "source": [
    "df_frauds = df[df[\"Class\"] == 1]"
   ]
  },
  {
   "cell_type": "code",
   "execution_count": 22,
   "id": "20ab5a0d-631a-4d75-8518-fd53c0bb37a6",
   "metadata": {},
   "outputs": [
    {
     "data": {
      "text/plain": [
       "(284315, 8)"
      ]
     },
     "execution_count": 22,
     "metadata": {},
     "output_type": "execute_result"
    }
   ],
   "source": [
    "df_frauds.shape"
   ]
  },
  {
   "cell_type": "code",
   "execution_count": 23,
   "id": "52dc38b6-e6b2-42af-ac51-9126318e6deb",
   "metadata": {
    "scrolled": true
   },
   "outputs": [
    {
     "data": {
      "text/html": [
       "<div>\n",
       "<style scoped>\n",
       "    .dataframe tbody tr th:only-of-type {\n",
       "        vertical-align: middle;\n",
       "    }\n",
       "\n",
       "    .dataframe tbody tr th {\n",
       "        vertical-align: top;\n",
       "    }\n",
       "\n",
       "    .dataframe thead th {\n",
       "        text-align: right;\n",
       "    }\n",
       "</style>\n",
       "<table border=\"1\" class=\"dataframe\">\n",
       "  <thead>\n",
       "    <tr style=\"text-align: right;\">\n",
       "      <th></th>\n",
       "      <th>Time</th>\n",
       "      <th>V1</th>\n",
       "      <th>V2</th>\n",
       "      <th>V3</th>\n",
       "      <th>V4</th>\n",
       "      <th>V5</th>\n",
       "      <th>Amount</th>\n",
       "      <th>Class</th>\n",
       "    </tr>\n",
       "  </thead>\n",
       "  <tbody>\n",
       "    <tr>\n",
       "      <th>count</th>\n",
       "      <td>284315.000000</td>\n",
       "      <td>284315.000000</td>\n",
       "      <td>284315.000000</td>\n",
       "      <td>284315.000000</td>\n",
       "      <td>284315.000000</td>\n",
       "      <td>284315.000000</td>\n",
       "      <td>284315.000000</td>\n",
       "      <td>284315.0</td>\n",
       "    </tr>\n",
       "    <tr>\n",
       "      <th>mean</th>\n",
       "      <td>80660.422419</td>\n",
       "      <td>-4.778863</td>\n",
       "      <td>3.633439</td>\n",
       "      <td>-7.038790</td>\n",
       "      <td>4.538901</td>\n",
       "      <td>-3.159677</td>\n",
       "      <td>121.537336</td>\n",
       "      <td>1.0</td>\n",
       "    </tr>\n",
       "    <tr>\n",
       "      <th>std</th>\n",
       "      <td>47782.605071</td>\n",
       "      <td>6.798528</td>\n",
       "      <td>4.295320</td>\n",
       "      <td>7.111591</td>\n",
       "      <td>2.865115</td>\n",
       "      <td>5.379446</td>\n",
       "      <td>254.054000</td>\n",
       "      <td>0.0</td>\n",
       "    </tr>\n",
       "    <tr>\n",
       "      <th>min</th>\n",
       "      <td>406.000000</td>\n",
       "      <td>-30.552380</td>\n",
       "      <td>-8.402154</td>\n",
       "      <td>-31.103685</td>\n",
       "      <td>-1.313275</td>\n",
       "      <td>-22.105532</td>\n",
       "      <td>0.000000</td>\n",
       "      <td>1.0</td>\n",
       "    </tr>\n",
       "    <tr>\n",
       "      <th>25%</th>\n",
       "      <td>41237.000000</td>\n",
       "      <td>-6.003422</td>\n",
       "      <td>1.189757</td>\n",
       "      <td>-8.631802</td>\n",
       "      <td>2.357096</td>\n",
       "      <td>-4.801176</td>\n",
       "      <td>1.000000</td>\n",
       "      <td>1.0</td>\n",
       "    </tr>\n",
       "    <tr>\n",
       "      <th>50%</th>\n",
       "      <td>75556.000000</td>\n",
       "      <td>-2.335655</td>\n",
       "      <td>2.715855</td>\n",
       "      <td>-5.076070</td>\n",
       "      <td>4.180779</td>\n",
       "      <td>-1.513022</td>\n",
       "      <td>9.210000</td>\n",
       "      <td>1.0</td>\n",
       "    </tr>\n",
       "    <tr>\n",
       "      <th>75%</th>\n",
       "      <td>128471.000000</td>\n",
       "      <td>-0.417340</td>\n",
       "      <td>4.960892</td>\n",
       "      <td>-2.276921</td>\n",
       "      <td>6.348557</td>\n",
       "      <td>0.213863</td>\n",
       "      <td>105.890000</td>\n",
       "      <td>1.0</td>\n",
       "    </tr>\n",
       "    <tr>\n",
       "      <th>max</th>\n",
       "      <td>170348.000000</td>\n",
       "      <td>2.132386</td>\n",
       "      <td>22.057729</td>\n",
       "      <td>2.250210</td>\n",
       "      <td>12.114672</td>\n",
       "      <td>11.095089</td>\n",
       "      <td>2125.870000</td>\n",
       "      <td>1.0</td>\n",
       "    </tr>\n",
       "  </tbody>\n",
       "</table>\n",
       "</div>"
      ],
      "text/plain": [
       "                Time             V1             V2             V3  \\\n",
       "count  284315.000000  284315.000000  284315.000000  284315.000000   \n",
       "mean    80660.422419      -4.778863       3.633439      -7.038790   \n",
       "std     47782.605071       6.798528       4.295320       7.111591   \n",
       "min       406.000000     -30.552380      -8.402154     -31.103685   \n",
       "25%     41237.000000      -6.003422       1.189757      -8.631802   \n",
       "50%     75556.000000      -2.335655       2.715855      -5.076070   \n",
       "75%    128471.000000      -0.417340       4.960892      -2.276921   \n",
       "max    170348.000000       2.132386      22.057729       2.250210   \n",
       "\n",
       "                  V4             V5         Amount     Class  \n",
       "count  284315.000000  284315.000000  284315.000000  284315.0  \n",
       "mean        4.538901      -3.159677     121.537336       1.0  \n",
       "std         2.865115       5.379446     254.054000       0.0  \n",
       "min        -1.313275     -22.105532       0.000000       1.0  \n",
       "25%         2.357096      -4.801176       1.000000       1.0  \n",
       "50%         4.180779      -1.513022       9.210000       1.0  \n",
       "75%         6.348557       0.213863     105.890000       1.0  \n",
       "max        12.114672      11.095089    2125.870000       1.0  "
      ]
     },
     "execution_count": 23,
     "metadata": {},
     "output_type": "execute_result"
    }
   ],
   "source": [
    "df_frauds.describe()"
   ]
  },
  {
   "cell_type": "code",
   "execution_count": 24,
   "id": "97ee1ae3-1b57-4956-b9b2-e0d146819a3c",
   "metadata": {},
   "outputs": [
    {
     "name": "stdout",
     "output_type": "stream",
     "text": [
      "[  0.     1.     9.21 105.89 824.83]\n"
     ]
    },
    {
     "data": {
      "image/png": "[encoded data removed]",
      "text/plain": [
       "<Figure size 640x480 with 1 Axes>"
      ]
     },
     "metadata": {},
     "output_type": "display_data"
    }
   ],
   "source": [
    "# Specify array of percentiles: percentiles\n",
    "percentiles = np.array([2.5, 25, 50, 75, 97.5])\n",
    "\n",
    "# Compute percentiles: ptiles_vers\n",
    "ptiles_vers = np.percentile(df_frauds[\"Amount\"], percentiles)\n",
    "\n",
    "# Print the result\n",
    "print(ptiles_vers)\n",
    "\n",
    "\n",
    "#sns.countplot(x=df_frauds[\"Amount\"])\n",
    "\n",
    "\n",
    "fig, ax = plt.subplots()\n",
    "\n",
    "\n",
    "# Plot a histogram of \"Weight\" for mens_rowing\n",
    "ax.hist(df_frauds[\"Amount\"], label = \"fraud amount\", histtype = \"step\", bins = 20)\n",
    "\n",
    "\n",
    "ax.set_xlabel(\"Amount\")\n",
    "ax.set_ylabel(\"# of observations\")\n",
    "\n",
    "# Add the legend and show the Figure\n",
    "ax.legend()\n",
    "plt.show()\n",
    "\n",
    "# Create box plot with Seaborn's default settings\n",
    "#sns.plot('Amount', data=df_frauds, kind='hist')\n",
    "#_ = plt.xlabel('fraudulent transactions')\n",
    "#_ = plt.ylabel('Amount')\n",
    "#plt.show()\n"
   ]
  },
  {
   "cell_type": "code",
   "execution_count": 25,
   "id": "6fad3f45-4852-40c3-ba19-d1df02ddf55b",
   "metadata": {
    "scrolled": true
   },
   "outputs": [
    {
     "name": "stdout",
     "output_type": "stream",
     "text": [
      "            Time       V1        V2        V3       V4        V5   Amount  \\\n",
      "176049  122608.0 -2.00346 -7.159042 -4.050976  1.30958 -2.058102  2125.87   \n",
      "176049  122608.0 -2.00346 -7.159042 -4.050976  1.30958 -2.058102  2125.87   \n",
      "176049  122608.0 -2.00346 -7.159042 -4.050976  1.30958 -2.058102  2125.87   \n",
      "176049  122608.0 -2.00346 -7.159042 -4.050976  1.30958 -2.058102  2125.87   \n",
      "176049  122608.0 -2.00346 -7.159042 -4.050976  1.30958 -2.058102  2125.87   \n",
      "...          ...      ...       ...       ...      ...       ...      ...   \n",
      "176049  122608.0 -2.00346 -7.159042 -4.050976  1.30958 -2.058102  2125.87   \n",
      "176049  122608.0 -2.00346 -7.159042 -4.050976  1.30958 -2.058102  2125.87   \n",
      "176049  122608.0 -2.00346 -7.159042 -4.050976  1.30958 -2.058102  2125.87   \n",
      "176049  122608.0 -2.00346 -7.159042 -4.050976  1.30958 -2.058102  2125.87   \n",
      "176049  122608.0 -2.00346 -7.159042 -4.050976  1.30958 -2.058102  2125.87   \n",
      "\n",
      "        Class  \n",
      "176049      1  \n",
      "176049      1  \n",
      "176049      1  \n",
      "176049      1  \n",
      "176049      1  \n",
      "...       ...  \n",
      "176049      1  \n",
      "176049      1  \n",
      "176049      1  \n",
      "176049      1  \n",
      "176049      1  \n",
      "\n",
      "[546 rows x 8 columns]\n"
     ]
    }
   ],
   "source": [
    "print(df_frauds[df_frauds[\"Amount\"] > 2000])"
   ]
  },
  {
   "cell_type": "code",
   "execution_count": 26,
   "id": "6a33df1b-cce2-468f-a17a-57108332b809",
   "metadata": {
    "scrolled": true
   },
   "outputs": [
    {
     "data": {
      "image/png": "[encoded data removed]",
      "text/plain": [
       "<Figure size 640x480 with 1 Axes>"
      ]
     },
     "metadata": {},
     "output_type": "display_data"
    }
   ],
   "source": [
    "fig, ax = plt.subplots()\n",
    "\n",
    "\n",
    "# Plot a histogram of \"Weight\" for mens_rowing\n",
    "ax.hist(df_frauds[\"Time\"], label = \"Transaction time\", histtype = \"step\", bins = 20)\n",
    "\n",
    "\n",
    "ax.set_xlabel(\"Time\")\n",
    "ax.set_ylabel(\"# of observations\")\n",
    "\n",
    "# Add the legend and show the Figure\n",
    "ax.legend()\n",
    "plt.show()\n"
   ]
  },
  {
   "cell_type": "code",
   "execution_count": 27,
   "id": "02797263-a4a8-463a-952e-9afd649bbca6",
   "metadata": {
    "scrolled": true
   },
   "outputs": [
    {
     "data": {
      "image/png": "[encoded data removed]",
      "text/plain": [
       "<Figure size 640x480 with 1 Axes>"
      ]
     },
     "metadata": {},
     "output_type": "display_data"
    }
   ],
   "source": [
    "fig, ax = plt.subplots()\n",
    "ax.plot(df_frauds[\"Time\"], df_frauds[\"Amount\"], color=\"b\")\n",
    "plt.show()"
   ]
  },
  {
   "cell_type": "code",
   "execution_count": 28,
   "id": "c22fea66-b348-4586-bc22-fc3499b0bbaf",
   "metadata": {},
   "outputs": [],
   "source": [
    "# Create a dictionary mapping subgroup values to colors\n",
    "\n",
    "#plt.figure(figsize=(15,16))\n",
    "# Create a count plot of school with location subgroups\n",
    "#sns.countplot(x=\"Amount\", data = df_frauds, hue=\"Time\")\n",
    "\n",
    "# Display plot\n",
    "#plt.show()\n"
   ]
  },
  {
   "cell_type": "code",
   "execution_count": 29,
   "id": "6b5c6b7f-79bd-404d-9b44-d94ddc81187e",
   "metadata": {
    "scrolled": true
   },
   "outputs": [
    {
     "data": {
      "text/html": [
       "<div>\n",
       "<style scoped>\n",
       "    .dataframe tbody tr th:only-of-type {\n",
       "        vertical-align: middle;\n",
       "    }\n",
       "\n",
       "    .dataframe tbody tr th {\n",
       "        vertical-align: top;\n",
       "    }\n",
       "\n",
       "    .dataframe thead th {\n",
       "        text-align: right;\n",
       "    }\n",
       "</style>\n",
       "<table border=\"1\" class=\"dataframe\">\n",
       "  <thead>\n",
       "    <tr style=\"text-align: right;\">\n",
       "      <th></th>\n",
       "      <th>Time</th>\n",
       "      <th>V1</th>\n",
       "      <th>V2</th>\n",
       "      <th>V3</th>\n",
       "      <th>V4</th>\n",
       "      <th>V5</th>\n",
       "      <th>Amount</th>\n",
       "      <th>Class</th>\n",
       "    </tr>\n",
       "  </thead>\n",
       "  <tbody>\n",
       "    <tr>\n",
       "      <th>33276</th>\n",
       "      <td>37167.0</td>\n",
       "      <td>-7.923891</td>\n",
       "      <td>-5.198360</td>\n",
       "      <td>-3.000024</td>\n",
       "      <td>4.420666</td>\n",
       "      <td>2.272194</td>\n",
       "      <td>12.31</td>\n",
       "      <td>1</td>\n",
       "    </tr>\n",
       "    <tr>\n",
       "      <th>239499</th>\n",
       "      <td>150138.0</td>\n",
       "      <td>-2.150855</td>\n",
       "      <td>2.187917</td>\n",
       "      <td>-3.430516</td>\n",
       "      <td>0.119476</td>\n",
       "      <td>-0.173210</td>\n",
       "      <td>50.00</td>\n",
       "      <td>1</td>\n",
       "    </tr>\n",
       "    <tr>\n",
       "      <th>154720</th>\n",
       "      <td>102676.0</td>\n",
       "      <td>-5.552122</td>\n",
       "      <td>5.678134</td>\n",
       "      <td>-9.775528</td>\n",
       "      <td>8.416295</td>\n",
       "      <td>-4.409844</td>\n",
       "      <td>119.74</td>\n",
       "      <td>1</td>\n",
       "    </tr>\n",
       "    <tr>\n",
       "      <th>142557</th>\n",
       "      <td>84789.0</td>\n",
       "      <td>-1.430864</td>\n",
       "      <td>-0.802529</td>\n",
       "      <td>1.123320</td>\n",
       "      <td>0.389760</td>\n",
       "      <td>-0.281214</td>\n",
       "      <td>354.33</td>\n",
       "      <td>1</td>\n",
       "    </tr>\n",
       "    <tr>\n",
       "      <th>41395</th>\n",
       "      <td>40662.0</td>\n",
       "      <td>-4.446847</td>\n",
       "      <td>-0.014793</td>\n",
       "      <td>-5.126307</td>\n",
       "      <td>6.945130</td>\n",
       "      <td>5.269255</td>\n",
       "      <td>1.00</td>\n",
       "      <td>1</td>\n",
       "    </tr>\n",
       "    <tr>\n",
       "      <th>...</th>\n",
       "      <td>...</td>\n",
       "      <td>...</td>\n",
       "      <td>...</td>\n",
       "      <td>...</td>\n",
       "      <td>...</td>\n",
       "      <td>...</td>\n",
       "      <td>...</td>\n",
       "      <td>...</td>\n",
       "    </tr>\n",
       "    <tr>\n",
       "      <th>229712</th>\n",
       "      <td>146022.0</td>\n",
       "      <td>0.908637</td>\n",
       "      <td>2.849024</td>\n",
       "      <td>-5.647343</td>\n",
       "      <td>6.009415</td>\n",
       "      <td>0.216656</td>\n",
       "      <td>1.18</td>\n",
       "      <td>1</td>\n",
       "    </tr>\n",
       "    <tr>\n",
       "      <th>15781</th>\n",
       "      <td>27219.0</td>\n",
       "      <td>-25.266355</td>\n",
       "      <td>14.323254</td>\n",
       "      <td>-26.823673</td>\n",
       "      <td>6.349248</td>\n",
       "      <td>-18.664251</td>\n",
       "      <td>99.99</td>\n",
       "      <td>1</td>\n",
       "    </tr>\n",
       "    <tr>\n",
       "      <th>251881</th>\n",
       "      <td>155542.0</td>\n",
       "      <td>1.868226</td>\n",
       "      <td>1.363077</td>\n",
       "      <td>-1.994934</td>\n",
       "      <td>4.173516</td>\n",
       "      <td>1.239751</td>\n",
       "      <td>3.14</td>\n",
       "      <td>1</td>\n",
       "    </tr>\n",
       "    <tr>\n",
       "      <th>154234</th>\n",
       "      <td>100924.0</td>\n",
       "      <td>-23.984747</td>\n",
       "      <td>16.697832</td>\n",
       "      <td>-22.209875</td>\n",
       "      <td>9.584969</td>\n",
       "      <td>-16.230439</td>\n",
       "      <td>1.00</td>\n",
       "      <td>1</td>\n",
       "    </tr>\n",
       "    <tr>\n",
       "      <th>281144</th>\n",
       "      <td>169966.0</td>\n",
       "      <td>-3.113832</td>\n",
       "      <td>0.585864</td>\n",
       "      <td>-5.399730</td>\n",
       "      <td>1.817092</td>\n",
       "      <td>-0.840618</td>\n",
       "      <td>245.00</td>\n",
       "      <td>1</td>\n",
       "    </tr>\n",
       "  </tbody>\n",
       "</table>\n",
       "<p>264201 rows × 8 columns</p>\n",
       "</div>"
      ],
      "text/plain": [
       "            Time         V1         V2         V3        V4         V5  \\\n",
       "33276    37167.0  -7.923891  -5.198360  -3.000024  4.420666   2.272194   \n",
       "239499  150138.0  -2.150855   2.187917  -3.430516  0.119476  -0.173210   \n",
       "154720  102676.0  -5.552122   5.678134  -9.775528  8.416295  -4.409844   \n",
       "142557   84789.0  -1.430864  -0.802529   1.123320  0.389760  -0.281214   \n",
       "41395    40662.0  -4.446847  -0.014793  -5.126307  6.945130   5.269255   \n",
       "...          ...        ...        ...        ...       ...        ...   \n",
       "229712  146022.0   0.908637   2.849024  -5.647343  6.009415   0.216656   \n",
       "15781    27219.0 -25.266355  14.323254 -26.823673  6.349248 -18.664251   \n",
       "251881  155542.0   1.868226   1.363077  -1.994934  4.173516   1.239751   \n",
       "154234  100924.0 -23.984747  16.697832 -22.209875  9.584969 -16.230439   \n",
       "281144  169966.0  -3.113832   0.585864  -5.399730  1.817092  -0.840618   \n",
       "\n",
       "        Amount  Class  \n",
       "33276    12.31      1  \n",
       "239499   50.00      1  \n",
       "154720  119.74      1  \n",
       "142557  354.33      1  \n",
       "41395     1.00      1  \n",
       "...        ...    ...  \n",
       "229712    1.18      1  \n",
       "15781    99.99      1  \n",
       "251881    3.14      1  \n",
       "154234    1.00      1  \n",
       "281144  245.00      1  \n",
       "\n",
       "[264201 rows x 8 columns]"
      ]
     },
     "execution_count": 29,
     "metadata": {},
     "output_type": "execute_result"
    }
   ],
   "source": [
    "df_frauds[df_frauds[\"Amount\"] < 500]"
   ]
  },
  {
   "cell_type": "code",
   "execution_count": 30,
   "id": "5b0a5e51-1ec8-471e-b138-46451e973b27",
   "metadata": {
    "scrolled": true
   },
   "outputs": [
    {
     "data": {
      "text/plain": [
       "<Axes: xlabel='Class', ylabel='Amount'>"
      ]
     },
     "execution_count": 30,
     "metadata": {},
     "output_type": "execute_result"
    },
    {
     "data": {
      "image/png": "[encoded data removed]",
      "text/plain": [
       "<Figure size 640x480 with 1 Axes>"
      ]
     },
     "metadata": {},
     "output_type": "display_data"
    }
   ],
   "source": [
    "sns.boxplot(x=df_frauds[\"Class\"], y = df_frauds[\"Amount\"])"
   ]
  },
  {
   "cell_type": "code",
   "execution_count": 31,
   "id": "6e79077b-47ed-4ec7-8cee-3e86e38ea317",
   "metadata": {},
   "outputs": [],
   "source": [
    "# Calculate the percentiles\n",
    "def calculate_outliers(feature):\n",
    "    seventy_fifth = df_frauds[feature].quantile(0.75)\n",
    "    twenty_fifth = df_frauds[feature].quantile(0.25)\n",
    "\n",
    "    # Obtain IQR\n",
    "    iqr = seventy_fifth - twenty_fifth\n",
    "\n",
    "    # Upper and lower thresholds\n",
    "    upper = seventy_fifth + (1.5 * iqr)\n",
    "    lower = twenty_fifth - (1.5 * iqr)\n",
    "\n",
    "    # Subset the dataset\n",
    "    outliers = df_frauds[(df_frauds[feature] < lower) | (df_frauds[feature] > upper)]\n",
    "    return outliers"
   ]
  },
  {
   "cell_type": "code",
   "execution_count": 32,
   "id": "8a9cbfd8-3816-43cb-8696-22dfa1f39836",
   "metadata": {},
   "outputs": [
    {
     "ename": "NameError",
     "evalue": "name 'outliers' is not defined",
     "output_type": "error",
     "traceback": [
      "\u001b[0;31m---------------------------------------------------------------------------\u001b[0m",
      "\u001b[0;31mNameError\u001b[0m                                 Traceback (most recent call last)",
      "Cell \u001b[0;32mIn[32], line 2\u001b[0m\n\u001b[1;32m      1\u001b[0m \u001b[38;5;66;03m# Obtain number of outliers\u001b[39;00m\n\u001b[0;32m----> 2\u001b[0m \u001b[38;5;28mprint\u001b[39m(\u001b[38;5;124mf\u001b[39m\u001b[38;5;124m'\u001b[39m\u001b[38;5;124mNumber of outliers: \u001b[39m\u001b[38;5;132;01m{\u001b[39;00m\u001b[38;5;28mlen\u001b[39m(outliers)\u001b[38;5;132;01m}\u001b[39;00m\u001b[38;5;124m'\u001b[39m)\n",
      "\u001b[0;31mNameError\u001b[0m: name 'outliers' is not defined"
     ]
    }
   ],
   "source": [
    "# Obtain number of outliers\n",
    "#print(f'Number of outliers: {len(outliers)}')\n"
   ]
  },
  {
   "cell_type": "code",
   "execution_count": 33,
   "id": "dd93f144-8327-48c2-aeaf-454a23b88447",
   "metadata": {},
   "outputs": [
    {
     "name": "stdout",
     "output_type": "stream",
     "text": [
      "Number of Amount outliers: 39852\n"
     ]
    }
   ],
   "source": [
    "Amount_outliers = calculate_outliers(\"Amount\")\n",
    "print(f'Number of Amount outliers: {len(Amount_outliers)}')\n"
   ]
  },
  {
   "cell_type": "code",
   "execution_count": 34,
   "id": "2a4363c2-4c10-452b-8094-a468b1b99e6d",
   "metadata": {},
   "outputs": [
    {
     "name": "stdout",
     "output_type": "stream",
     "text": [
      "Number of Time outliers: 0\n"
     ]
    }
   ],
   "source": [
    "Time_outliers = calculate_outliers(\"Time\")\n",
    "print(f'Number of Time outliers: {len(Time_outliers)}')\n"
   ]
  },
  {
   "cell_type": "code",
   "execution_count": 35,
   "id": "99de2f49-5358-49c0-91f7-a79ece43e981",
   "metadata": {},
   "outputs": [
    {
     "name": "stdout",
     "output_type": "stream",
     "text": [
      "Number of V1 outliers: 30156\n"
     ]
    }
   ],
   "source": [
    "V1_outliers = calculate_outliers(\"V1\")\n",
    "print(f'Number of V1 outliers: {len(V1_outliers)}')\n"
   ]
  },
  {
   "cell_type": "code",
   "execution_count": 36,
   "id": "e1d03258-cc11-4b33-8675-7d2115871d38",
   "metadata": {},
   "outputs": [
    {
     "name": "stdout",
     "output_type": "stream",
     "text": [
      "Number of V2 outliers: 26686\n"
     ]
    }
   ],
   "source": [
    "V2_outliers = calculate_outliers(\"V2\")\n",
    "print(f'Number of V2 outliers: {len(V2_outliers)}')\n"
   ]
  },
  {
   "cell_type": "code",
   "execution_count": 37,
   "id": "c8e777e7-af6b-43ea-8760-b8ea6bfbde56",
   "metadata": {},
   "outputs": [
    {
     "name": "stdout",
     "output_type": "stream",
     "text": [
      "Number of V3 outliers: 30705\n"
     ]
    }
   ],
   "source": [
    "V3_outliers = calculate_outliers(\"V3\")\n",
    "print(f'Number of V3 outliers: {len(V3_outliers)}')\n"
   ]
  },
  {
   "cell_type": "code",
   "execution_count": 38,
   "id": "03f9cb6c-3044-4d73-abd4-f28ed1d4ab89",
   "metadata": {
    "scrolled": true
   },
   "outputs": [
    {
     "name": "stdout",
     "output_type": "stream",
     "text": [
      "Number of V4 outliers: 0\n"
     ]
    }
   ],
   "source": [
    "V4_outliers = calculate_outliers(\"V4\")\n",
    "print(f'Number of V4 outliers: {len(V4_outliers)}')\n"
   ]
  },
  {
   "cell_type": "code",
   "execution_count": 39,
   "id": "98b3f213-c6f5-48d1-b7b1-9409df02f837",
   "metadata": {
    "scrolled": true
   },
   "outputs": [
    {
     "name": "stdout",
     "output_type": "stream",
     "text": [
      "Number of V5 outliers: 26163\n"
     ]
    }
   ],
   "source": [
    "V5_outliers = calculate_outliers(\"V5\")\n",
    "print(f'Number of V5 outliers: {len(V5_outliers)}')\n"
   ]
  },
  {
   "cell_type": "code",
   "execution_count": 40,
   "id": "9531a1c0-f57f-4df1-9761-19b467f7f1b9",
   "metadata": {
    "scrolled": true
   },
   "outputs": [
    {
     "data": {
      "text/plain": [
       "pandas.core.frame.DataFrame"
      ]
     },
     "execution_count": 40,
     "metadata": {},
     "output_type": "execute_result"
    }
   ],
   "source": [
    "type(V5_outliers)"
   ]
  },
  {
   "cell_type": "code",
   "execution_count": 66,
   "id": "e695f1f7-58b3-49e2-a332-e056e86091fb",
   "metadata": {},
   "outputs": [],
   "source": [
    "df_frauds_without_outliers = df_frauds[~df_frauds[\"Amount\"].isin(Amount_outliers[\"Amount\"]) & ~df_frauds[\"V5\"].isin(V5_outliers[\"V5\"]) & ~df_frauds[\"V3\"].isin(V3_outliers[\"V3\"]) & ~df_frauds[\"V2\"].isin(V2_outliers[\"V2\"]) & ~df_frauds[\"V1\"].isin(V1_outliers[\"V1\"])]\n",
    "\n",
    "\n"
   ]
  },
  {
   "cell_type": "code",
   "execution_count": 67,
   "id": "693022b3-4f29-4ffd-8be3-bc9ac609e88b",
   "metadata": {},
   "outputs": [],
   "source": [
    "df_no_frauds = df[df[\"Class\"] == 0]"
   ]
  },
  {
   "cell_type": "code",
   "execution_count": 68,
   "id": "88b2f64d-b6aa-425a-8de4-19bbda64ba79",
   "metadata": {},
   "outputs": [],
   "source": [
    "# Calculate the percentiles\n",
    "def calculate_outliers_no_frauds(feature):\n",
    "    seventy_fifth = df_no_frauds[feature].quantile(0.75)\n",
    "    twenty_fifth = df_no_frauds[feature].quantile(0.25)\n",
    "\n",
    "    # Obtain IQR\n",
    "    iqr = seventy_fifth - twenty_fifth\n",
    "\n",
    "    # Upper and lower thresholds\n",
    "    upper = seventy_fifth + (1.5 * iqr)\n",
    "    lower = twenty_fifth - (1.5 * iqr)\n",
    "\n",
    "    # Subset the dataset\n",
    "    outliers = df_no_frauds[(df_no_frauds[feature] < lower) | (df_no_frauds[feature] > upper)]\n",
    "    return outliers"
   ]
  },
  {
   "cell_type": "code",
   "execution_count": 69,
   "id": "a0c41e5d-3ee9-412e-bab4-d575c40ace9b",
   "metadata": {},
   "outputs": [],
   "source": [
    "Amount_nof_outliers = calculate_outliers_no_frauds(\"Amount\")\n",
    "V5_nof_outliers = calculate_outliers_no_frauds(\"V5\")\n",
    "V4_nof_outliers = calculate_outliers_no_frauds(\"V4\")\n",
    "V3_nof_outliers = calculate_outliers_no_frauds(\"V3\")\n",
    "V2_nof_outliers = calculate_outliers_no_frauds(\"V2\")\n",
    "V1_nof_outliers = calculate_outliers_no_frauds(\"V1\")"
   ]
  },
  {
   "cell_type": "code",
   "execution_count": 70,
   "id": "ae05f22f-5e2b-4c95-b5e7-66f4b373e333",
   "metadata": {},
   "outputs": [
    {
     "name": "stdout",
     "output_type": "stream",
     "text": [
      "284315\n",
      "229459\n"
     ]
    }
   ],
   "source": [
    "df_no_frauds_without_outliers = df_no_frauds[~df_no_frauds[\"Amount\"].isin(Amount_nof_outliers[\"Amount\"]) & ~df_no_frauds[\"V5\"].isin(V5_nof_outliers[\"V5\"]) & ~df_no_frauds[\"V4\"].isin(V4_nof_outliers[\"V4\"]) & ~df_no_frauds[\"V3\"].isin(V3_nof_outliers[\"V3\"]) & ~df_no_frauds[\"V2\"].isin(V2_nof_outliers[\"V2\"]) & ~df_no_frauds[\"V1\"].isin(V1_nof_outliers[\"V1\"])]\n",
    "print(len(df_no_frauds))\n",
    "print(len(df_no_frauds_without_outliers))"
   ]
  },
  {
   "cell_type": "code",
   "execution_count": 71,
   "id": "17e753c0-065e-4deb-8f6e-7d8621ce99a4",
   "metadata": {},
   "outputs": [
    {
     "data": {
      "text/html": [
       "<div>\n",
       "<style scoped>\n",
       "    .dataframe tbody tr th:only-of-type {\n",
       "        vertical-align: middle;\n",
       "    }\n",
       "\n",
       "    .dataframe tbody tr th {\n",
       "        vertical-align: top;\n",
       "    }\n",
       "\n",
       "    .dataframe thead th {\n",
       "        text-align: right;\n",
       "    }\n",
       "</style>\n",
       "<table border=\"1\" class=\"dataframe\">\n",
       "  <thead>\n",
       "    <tr style=\"text-align: right;\">\n",
       "      <th></th>\n",
       "      <th>Time</th>\n",
       "      <th>V1</th>\n",
       "      <th>V2</th>\n",
       "      <th>V3</th>\n",
       "      <th>V4</th>\n",
       "      <th>V5</th>\n",
       "      <th>Amount</th>\n",
       "      <th>Class</th>\n",
       "    </tr>\n",
       "  </thead>\n",
       "  <tbody>\n",
       "    <tr>\n",
       "      <th>0</th>\n",
       "      <td>0.0</td>\n",
       "      <td>-1.359807</td>\n",
       "      <td>-0.072781</td>\n",
       "      <td>2.536347</td>\n",
       "      <td>1.378155</td>\n",
       "      <td>-0.338321</td>\n",
       "      <td>149.62</td>\n",
       "      <td>0</td>\n",
       "    </tr>\n",
       "    <tr>\n",
       "      <th>1</th>\n",
       "      <td>0.0</td>\n",
       "      <td>1.191857</td>\n",
       "      <td>0.266151</td>\n",
       "      <td>0.166480</td>\n",
       "      <td>0.448154</td>\n",
       "      <td>0.060018</td>\n",
       "      <td>2.69</td>\n",
       "      <td>0</td>\n",
       "    </tr>\n",
       "    <tr>\n",
       "      <th>3</th>\n",
       "      <td>1.0</td>\n",
       "      <td>-0.966272</td>\n",
       "      <td>-0.185226</td>\n",
       "      <td>1.792993</td>\n",
       "      <td>-0.863291</td>\n",
       "      <td>-0.010309</td>\n",
       "      <td>123.50</td>\n",
       "      <td>0</td>\n",
       "    </tr>\n",
       "    <tr>\n",
       "      <th>4</th>\n",
       "      <td>2.0</td>\n",
       "      <td>-1.158233</td>\n",
       "      <td>0.877737</td>\n",
       "      <td>1.548718</td>\n",
       "      <td>0.403034</td>\n",
       "      <td>-0.407193</td>\n",
       "      <td>69.99</td>\n",
       "      <td>0</td>\n",
       "    </tr>\n",
       "    <tr>\n",
       "      <th>5</th>\n",
       "      <td>2.0</td>\n",
       "      <td>-0.425966</td>\n",
       "      <td>0.960523</td>\n",
       "      <td>1.141109</td>\n",
       "      <td>-0.168252</td>\n",
       "      <td>0.420987</td>\n",
       "      <td>3.67</td>\n",
       "      <td>0</td>\n",
       "    </tr>\n",
       "  </tbody>\n",
       "</table>\n",
       "</div>"
      ],
      "text/plain": [
       "   Time        V1        V2        V3        V4        V5  Amount  Class\n",
       "0   0.0 -1.359807 -0.072781  2.536347  1.378155 -0.338321  149.62      0\n",
       "1   0.0  1.191857  0.266151  0.166480  0.448154  0.060018    2.69      0\n",
       "3   1.0 -0.966272 -0.185226  1.792993 -0.863291 -0.010309  123.50      0\n",
       "4   2.0 -1.158233  0.877737  1.548718  0.403034 -0.407193   69.99      0\n",
       "5   2.0 -0.425966  0.960523  1.141109 -0.168252  0.420987    3.67      0"
      ]
     },
     "execution_count": 71,
     "metadata": {},
     "output_type": "execute_result"
    }
   ],
   "source": [
    "df_no_frauds_without_outliers.head()"
   ]
  },
  {
   "cell_type": "code",
   "execution_count": 72,
   "id": "6dce7d9a-ee63-4892-8dca-fcccc2a03bc9",
   "metadata": {
    "scrolled": true
   },
   "outputs": [
    {
     "data": {
      "text/html": [
       "<div>\n",
       "<style scoped>\n",
       "    .dataframe tbody tr th:only-of-type {\n",
       "        vertical-align: middle;\n",
       "    }\n",
       "\n",
       "    .dataframe tbody tr th {\n",
       "        vertical-align: top;\n",
       "    }\n",
       "\n",
       "    .dataframe thead th {\n",
       "        text-align: right;\n",
       "    }\n",
       "</style>\n",
       "<table border=\"1\" class=\"dataframe\">\n",
       "  <thead>\n",
       "    <tr style=\"text-align: right;\">\n",
       "      <th></th>\n",
       "      <th>Time</th>\n",
       "      <th>V1</th>\n",
       "      <th>V2</th>\n",
       "      <th>V3</th>\n",
       "      <th>V4</th>\n",
       "      <th>V5</th>\n",
       "      <th>Amount</th>\n",
       "      <th>Class</th>\n",
       "    </tr>\n",
       "  </thead>\n",
       "  <tbody>\n",
       "    <tr>\n",
       "      <th>239499</th>\n",
       "      <td>150138.0</td>\n",
       "      <td>-2.150855</td>\n",
       "      <td>2.187917</td>\n",
       "      <td>-3.430516</td>\n",
       "      <td>0.119476</td>\n",
       "      <td>-0.173210</td>\n",
       "      <td>50.00</td>\n",
       "      <td>1</td>\n",
       "    </tr>\n",
       "    <tr>\n",
       "      <th>154720</th>\n",
       "      <td>102676.0</td>\n",
       "      <td>-5.552122</td>\n",
       "      <td>5.678134</td>\n",
       "      <td>-9.775528</td>\n",
       "      <td>8.416295</td>\n",
       "      <td>-4.409844</td>\n",
       "      <td>119.74</td>\n",
       "      <td>1</td>\n",
       "    </tr>\n",
       "    <tr>\n",
       "      <th>41395</th>\n",
       "      <td>40662.0</td>\n",
       "      <td>-4.446847</td>\n",
       "      <td>-0.014793</td>\n",
       "      <td>-5.126307</td>\n",
       "      <td>6.945130</td>\n",
       "      <td>5.269255</td>\n",
       "      <td>1.00</td>\n",
       "      <td>1</td>\n",
       "    </tr>\n",
       "    <tr>\n",
       "      <th>77348</th>\n",
       "      <td>57007.0</td>\n",
       "      <td>-1.271244</td>\n",
       "      <td>2.462675</td>\n",
       "      <td>-2.851395</td>\n",
       "      <td>2.324480</td>\n",
       "      <td>-1.372245</td>\n",
       "      <td>0.01</td>\n",
       "      <td>1</td>\n",
       "    </tr>\n",
       "    <tr>\n",
       "      <th>6870</th>\n",
       "      <td>8757.0</td>\n",
       "      <td>-1.863756</td>\n",
       "      <td>3.442644</td>\n",
       "      <td>-4.468260</td>\n",
       "      <td>2.805336</td>\n",
       "      <td>-2.118412</td>\n",
       "      <td>1.00</td>\n",
       "      <td>1</td>\n",
       "    </tr>\n",
       "  </tbody>\n",
       "</table>\n",
       "</div>"
      ],
      "text/plain": [
       "            Time        V1        V2        V3        V4        V5  Amount  \\\n",
       "239499  150138.0 -2.150855  2.187917 -3.430516  0.119476 -0.173210   50.00   \n",
       "154720  102676.0 -5.552122  5.678134 -9.775528  8.416295 -4.409844  119.74   \n",
       "41395    40662.0 -4.446847 -0.014793 -5.126307  6.945130  5.269255    1.00   \n",
       "77348    57007.0 -1.271244  2.462675 -2.851395  2.324480 -1.372245    0.01   \n",
       "6870      8757.0 -1.863756  3.442644 -4.468260  2.805336 -2.118412    1.00   \n",
       "\n",
       "        Class  \n",
       "239499      1  \n",
       "154720      1  \n",
       "41395       1  \n",
       "77348       1  \n",
       "6870        1  "
      ]
     },
     "execution_count": 72,
     "metadata": {},
     "output_type": "execute_result"
    }
   ],
   "source": [
    "df_frauds_without_outliers.head()"
   ]
  },
  {
   "cell_type": "code",
   "execution_count": 73,
   "id": "17cbb725-fbc4-45bf-9d26-067107d391b7",
   "metadata": {},
   "outputs": [],
   "source": [
    "df_data = pd.concat([df_no_frauds_without_outliers, df_frauds_without_outliers], ignore_index=True)"
   ]
  },
  {
   "cell_type": "code",
   "execution_count": 74,
   "id": "1213e26f-51ae-4fec-8114-973738311368",
   "metadata": {},
   "outputs": [
    {
     "data": {
      "text/html": [
       "<div>\n",
       "<style scoped>\n",
       "    .dataframe tbody tr th:only-of-type {\n",
       "        vertical-align: middle;\n",
       "    }\n",
       "\n",
       "    .dataframe tbody tr th {\n",
       "        vertical-align: top;\n",
       "    }\n",
       "\n",
       "    .dataframe thead th {\n",
       "        text-align: right;\n",
       "    }\n",
       "</style>\n",
       "<table border=\"1\" class=\"dataframe\">\n",
       "  <thead>\n",
       "    <tr style=\"text-align: right;\">\n",
       "      <th></th>\n",
       "      <th>Time</th>\n",
       "      <th>V1</th>\n",
       "      <th>V2</th>\n",
       "      <th>V3</th>\n",
       "      <th>V4</th>\n",
       "      <th>V5</th>\n",
       "      <th>Amount</th>\n",
       "      <th>Class</th>\n",
       "    </tr>\n",
       "  </thead>\n",
       "  <tbody>\n",
       "    <tr>\n",
       "      <th>0</th>\n",
       "      <td>0.0</td>\n",
       "      <td>-1.359807</td>\n",
       "      <td>-0.072781</td>\n",
       "      <td>2.536347</td>\n",
       "      <td>1.378155</td>\n",
       "      <td>-0.338321</td>\n",
       "      <td>149.62</td>\n",
       "      <td>0</td>\n",
       "    </tr>\n",
       "    <tr>\n",
       "      <th>1</th>\n",
       "      <td>0.0</td>\n",
       "      <td>1.191857</td>\n",
       "      <td>0.266151</td>\n",
       "      <td>0.166480</td>\n",
       "      <td>0.448154</td>\n",
       "      <td>0.060018</td>\n",
       "      <td>2.69</td>\n",
       "      <td>0</td>\n",
       "    </tr>\n",
       "    <tr>\n",
       "      <th>2</th>\n",
       "      <td>1.0</td>\n",
       "      <td>-0.966272</td>\n",
       "      <td>-0.185226</td>\n",
       "      <td>1.792993</td>\n",
       "      <td>-0.863291</td>\n",
       "      <td>-0.010309</td>\n",
       "      <td>123.50</td>\n",
       "      <td>0</td>\n",
       "    </tr>\n",
       "    <tr>\n",
       "      <th>3</th>\n",
       "      <td>2.0</td>\n",
       "      <td>-1.158233</td>\n",
       "      <td>0.877737</td>\n",
       "      <td>1.548718</td>\n",
       "      <td>0.403034</td>\n",
       "      <td>-0.407193</td>\n",
       "      <td>69.99</td>\n",
       "      <td>0</td>\n",
       "    </tr>\n",
       "    <tr>\n",
       "      <th>4</th>\n",
       "      <td>2.0</td>\n",
       "      <td>-0.425966</td>\n",
       "      <td>0.960523</td>\n",
       "      <td>1.141109</td>\n",
       "      <td>-0.168252</td>\n",
       "      <td>0.420987</td>\n",
       "      <td>3.67</td>\n",
       "      <td>0</td>\n",
       "    </tr>\n",
       "  </tbody>\n",
       "</table>\n",
       "</div>"
      ],
      "text/plain": [
       "   Time        V1        V2        V3        V4        V5  Amount  Class\n",
       "0   0.0 -1.359807 -0.072781  2.536347  1.378155 -0.338321  149.62      0\n",
       "1   0.0  1.191857  0.266151  0.166480  0.448154  0.060018    2.69      0\n",
       "2   1.0 -0.966272 -0.185226  1.792993 -0.863291 -0.010309  123.50      0\n",
       "3   2.0 -1.158233  0.877737  1.548718  0.403034 -0.407193   69.99      0\n",
       "4   2.0 -0.425966  0.960523  1.141109 -0.168252  0.420987    3.67      0"
      ]
     },
     "execution_count": 74,
     "metadata": {},
     "output_type": "execute_result"
    }
   ],
   "source": [
    "df_data.head()"
   ]
  },
  {
   "cell_type": "code",
   "execution_count": 75,
   "id": "06bc5d59-8196-4fb2-b787-4b37c9718e1f",
   "metadata": {
    "scrolled": true
   },
   "outputs": [
    {
     "data": {
      "text/plain": [
       "<Axes: xlabel='Class', ylabel='Amount'>"
      ]
     },
     "execution_count": 75,
     "metadata": {},
     "output_type": "execute_result"
    },
    {
     "data": {
      "image/png": "[encoded data removed]",
      "text/plain": [
       "<Figure size 640x480 with 1 Axes>"
      ]
     },
     "metadata": {},
     "output_type": "display_data"
    }
   ],
   "source": [
    "sns.boxplot(x=df_data[\"Class\"], y = df_data[\"Amount\"])"
   ]
  },
  {
   "cell_type": "code",
   "execution_count": 85,
   "id": "929a1ce0-ef36-4835-9ba2-73d97681e0a0",
   "metadata": {},
   "outputs": [
    {
     "data": {
      "image/png": "[encoded data removed]",
      "text/plain": [
       "<Figure size 640x480 with 1 Axes>"
      ]
     },
     "metadata": {},
     "output_type": "display_data"
    }
   ],
   "source": [
    "def ecdf(data):\n",
    "    \"\"\"Compute ECDF for a one-dimensional array of measurements.\"\"\"\n",
    "    # Number of data points: n\n",
    "    n = len(data)\n",
    "\n",
    "    # x-data for the ECDF: x\n",
    "    x = np.sort(data)\n",
    "\n",
    "    # y-data for the ECDF: y\n",
    "    y =  np.arange(1, n+1) / n\n",
    "\n",
    "    return x, y\n",
    "\n",
    "\n",
    "# Seed random number generator\n",
    "rng = np.random.seed(42)\n",
    "\n",
    "# Compute mean no-hitter time: tau\n",
    "tau = np.mean(df_no_frauds_without_outliers)\n",
    "tau_fraud = np.mean(df_no_frauds_without_outliers)\n",
    "\n",
    "# Draw out of an exponential distribution with parameter tau: inter_nohitter_time\n",
    "inter_data = np.random.exponential(tau, 100000)\n",
    "inter_data_fraud = np.random.exponential(tau_fraud, 100000)\n",
    "\n",
    "# Plot the PDF and label axes\n",
    "#_ = plt.hist(inter_data,\n",
    "             #bins=50, histtype='step')\n",
    "#_ = plt.xlabel('Transactions')\n",
    "#_ = plt.ylabel('PDF')\n",
    "\n",
    "# Show the plot\n",
    "#plt.show()\n",
    "\n",
    "\n",
    "\n",
    "\n",
    "# Create an ECDF from real data: x, y\n",
    "x, y = ecdf(df_no_frauds_without_outliers)\n",
    "\n",
    "# Create a CDF from theoretical samples: x_theor, y_theor\n",
    "x_theor, y_theor = ecdf(inter_data)\n",
    "x_theor_fraud, y_theor_fraud = ecdf(inter_data_fraud)\n",
    "\n",
    "# Overlay the plots\n",
    "plt.plot(x_theor, y_theor)\n",
    "plt.plot(x_theor_fraud, y_theor_fraud)\n",
    "#plt.plot(x, y, marker='.', linestyle='none')\n",
    "\n",
    "# Margins and axis labels\n",
    "plt.margins(.02)\n",
    "plt.xlabel('Transactions')\n",
    "plt.ylabel('CDF')\n",
    "\n",
    "# Show the plot\n",
    "plt.show()\n"
   ]
  },
  {
   "cell_type": "code",
   "execution_count": 86,
   "id": "3a16f35b-5f5d-4090-aacb-9b972ce3796c",
   "metadata": {},
   "outputs": [],
   "source": [
    "from pathlib import Path  \n",
    "filepath = Path('Data/fraud_no_outliers.csv')  \n",
    "filepath.parent.mkdir(parents=True, exist_ok=True)  \n",
    "df_data.to_csv(filepath)"
   ]
  },
  {
   "cell_type": "code",
   "execution_count": null,
   "id": "89b51715-f27a-41a2-9c63-0879f0424c52",
   "metadata": {},
   "outputs": [],
   "source": []
  }
 ],
 "metadata": {
  "kernelspec": {
   "display_name": "Python 3 (ipykernel)",
   "language": "python",
   "name": "python3"
  },
  "language_info": {
   "codemirror_mode": {
    "name": "ipython",
    "version": 3
   },
   "file_extension": ".py",
   "mimetype": "text/x-python",
   "name": "python",
   "nbconvert_exporter": "python",
   "pygments_lexer": "ipython3",
   "version": "3.11.5"
  }
 },
 "nbformat": 4,
 "nbformat_minor": 5
}
