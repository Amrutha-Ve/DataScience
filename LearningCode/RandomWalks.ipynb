{
 "cells": [
  {
   "cell_type": "code",
   "execution_count": 9,
   "id": "d2ed3c94-052b-43f5-9a0c-a986c4abe012",
   "metadata": {
    "scrolled": true
   },
   "outputs": [
    {
     "name": "stdout",
     "output_type": "stream",
     "text": [
      "[ 81 117  33  48 102  59  56  49  70 100  44  38 104  67  84  86 102  79\n",
      "  56  32   7  80  75  93  53  49  83  71  86  86  58  56   4  62  14  38\n",
      "  70  79  81  64  51  81  71  96  75  83  65  68  67  83  88  94  72  72\n",
      " 113  92  66  45 106  64  71  79  79  54  66  61   7  91  75  69  52  49\n",
      "  72  99  62  90 107  79  67  64  15  80  66  72  93  25  82  89  41  40\n",
      "  71  82 104  67  40  66  50  29  57  80  81 100  76  58  59  71  81  67\n",
      "  45  75  67  60  73  69  40   8  91  91  75  54  92  91  73  31  64  63\n",
      "  57  66  71  54  66  92  45  64  67  81  79  65 102  42  69  64  76  73\n",
      "  21  89  56  73  68  54  83 118  73  73  80  68  77  59  90  86  74  57\n",
      "  88  57  25 116  97  67  78 120  92  41  73  67  52  57  84  58  93  78\n",
      "  69  62  72  60  15  42  71  59  66  54  87  65  75  64  81  89  64  97\n",
      "  53  67  75  90  15  92  95  94  66  59  64  83  51  78  33  89  68  84\n",
      "  76  60   2 101  92  76  64   0 122  85  66  98  69  65  74  73  72  86\n",
      "  90  73  85  89  85  78  94  58  83  69  84  43  58  78  80  60  89  63\n",
      "  66  96  73  48  77  72  81  70  76  77  95  71  96  78   8  61  43  69\n",
      "  93  68  78  81 103  77  86  91  86  74 107  66  60  52 102  64  65  64\n",
      "  20  73  66  94  50  77  82  84  65  58  50  68   0  79  73  19  79  95\n",
      "  85  78  62  93  69  75  89  85  85 108  94  82  84  72  78  89  59  88\n",
      " 101  90  67  36  33  56  70  21  86  69  93   3  71  79  84  95  90  69\n",
      " 118  87  20  68  54  81  62  55  70  83  71  69  87  69  70  69  74  61\n",
      "  58  91  42  99  86  93  32  96  60  79  65  77  47  78  44  67  58  60\n",
      "  58  94  81  95  79  81  55  93  92  44  79  82  10  93  22  99  58  72\n",
      "  70  77  76  82 103  97  67  84  57  66 102  59   7  63  74  74  61  56\n",
      "  94  63  90  80  67  66  86  29  73  51  63  77  97  82 108  69  86  76\n",
      "  90  72  87  65  64 101  80  85  65   1  27  73  73  67  57  60  49  70\n",
      "  84  93  94  84  51  62  79  87  20 105  73  91  68  72  89  62  43  78\n",
      "  93  79  64  76  94  91  75  66  56  68  79  59  98  66  74  57  69  83\n",
      "  62  69  70  65  77  82  68  82  94  92  52  78  54  85]\n",
      "0.768\n"
     ]
    }
   ],
   "source": [
    "# numpy and matplotlib imported, seed set\n",
    "import numpy as np\n",
    "import matplotlib as plt\n",
    "# Simulate random walk 500 times\n",
    "all_walks = []\n",
    "for i in range(500) :\n",
    "    random_walk = [0]\n",
    "    for x in range(100) :\n",
    "        step = random_walk[-1]\n",
    "        dice = np.random.randint(1,7)\n",
    "        if dice <= 2:\n",
    "            step = max(0, step - 1)\n",
    "        elif dice <= 5:\n",
    "            step = step + 1\n",
    "        else:\n",
    "            step = step + np.random.randint(1,7)\n",
    "        if np.random.rand() <= 0.001 :\n",
    "            step = 0\n",
    "        random_walk.append(step)\n",
    "    all_walks.append(random_walk)\n",
    "\n",
    "#print(all_walks)\n",
    "# Create and plot np_aw_t\n",
    "np_aw_t = np.transpose(np.array(all_walks))\n",
    "#print(np_aw_t)\n",
    "# Select last row from np_aw_t: ends\n",
    "ends = np_aw_t[-1,:]\n",
    "print(ends)\n",
    "count = 0\n",
    "for i in ends:\n",
    "    if i >=60:\n",
    "        count = count + 1\n",
    "print(count/500)\n",
    "# Plot histogram of ends, display plot\n",
    "#plt.hist(ends)\n",
    "#plt.show()\n"
   ]
  },
  {
   "cell_type": "code",
   "execution_count": null,
   "id": "4e0f2157-29ad-4f46-8653-5f64d1c5de76",
   "metadata": {},
   "outputs": [],
   "source": []
  },
  {
   "cell_type": "code",
   "execution_count": null,
   "id": "a7538b95-ff14-4e78-bd7f-2a1ebdab50aa",
   "metadata": {},
   "outputs": [],
   "source": []
  }
 ],
 "metadata": {
  "kernelspec": {
   "display_name": "Python 3 (ipykernel)",
   "language": "python",
   "name": "python3"
  },
  "language_info": {
   "codemirror_mode": {
    "name": "ipython",
    "version": 3
   },
   "file_extension": ".py",
   "mimetype": "text/x-python",
   "name": "python",
   "nbconvert_exporter": "python",
   "pygments_lexer": "ipython3",
   "version": "3.11.5"
  }
 },
 "nbformat": 4,
 "nbformat_minor": 5
}
